{
 "cells": [
  {
   "cell_type": "code",
   "execution_count": 87,
   "id": "2ddd4542",
   "metadata": {},
   "outputs": [
    {
     "name": "stdout",
     "output_type": "stream",
     "text": [
      "The autoreload extension is already loaded. To reload it, use:\n",
      "  %reload_ext autoreload\n"
     ]
    }
   ],
   "source": [
    "# Enable auto-reloading of external modules - useful during development\n",
    "%load_ext autoreload\n",
    "%autoreload 2\n",
    "\n",
    "# Configure Python path to find our custom modules\n",
    "import sys\n",
    "from pathlib import Path\n",
    "\n",
    "# Add project root to the Python path for proper imports\n",
    "project_root = Path.cwd().parent\n",
    "if project_root not in sys.path:\n",
    "    sys.path.insert(0, str(project_root))"
   ]
  },
  {
   "cell_type": "code",
   "execution_count": 88,
   "id": "8265a97d",
   "metadata": {},
   "outputs": [],
   "source": [
    "# Import necessary libraries\n",
    "import src.processing as processing\n",
    "import src.config as lists"
   ]
  },
  {
   "cell_type": "code",
   "execution_count": 89,
   "id": "f16831de",
   "metadata": {},
   "outputs": [
    {
     "name": "stdout",
     "output_type": "stream",
     "text": [
      "After fresh import:\n",
      "DEPENDENT_VARIABLE type: <class 'str'>\n",
      "DEPENDENT_VARIABLE value: OCF_Scaled_t_plus_1\n"
     ]
    },
    {
     "name": "stderr",
     "output_type": "stream",
     "text": [
      "/Users/luis.m/Library/Mobile Documents/com~apple~CloudDocs/Documents ☁️/VSC Projects/Master_Thesis/src/processing.py:42: DtypeWarning: Columns (10,11,12,16,17,22,26,30,33,34,35,945,946,948,949,950,955,969,970,975,980) have mixed types. Specify dtype option on import or set low_memory=False.\n",
      "  data = pd.read_csv(file_path)\n"
     ]
    },
    {
     "name": "stdout",
     "output_type": "stream",
     "text": [
      "Data loaded successfully from /Users/luis.m/Library/Mobile Documents/com~apple~CloudDocs/Documents ☁️/VSC Projects/Master_Thesis/data/raw/nvzfxcoxdvh1at7i.csv\n",
      "Original number of observations: 317304\n",
      "Number of columns after selection: 30\n",
      "Observations after year filter (2000-2023): 302751\n",
      "Observations after excluding financial and utility firms: 170598\n",
      "Starting feature construction. Initial df shape: (170598, 30)\n",
      "  Creating lags for: ['at', 'ni', 'rect', 'invt', 'ap', 'sale']\n",
      "\n",
      "Performing pre-calculation validity checks & preparations...\n",
      "  Missing 'xrd' values filled with 0.\n",
      "  'ipo_year' created from 'ipodate'.\n",
      "\n",
      "Constructing dependent variable...\n",
      "  OCF_Scaled_t_plus_1 created.\n",
      "\n",
      "Constructing Set A (OLS) predictors...\n",
      "  Set A predictors constructed.\n",
      "\n",
      "Constructing control dummy variables...\n",
      "  Dummy variables constructed.\n",
      "\n",
      "Constructing Set B (additional ML) predictors...\n",
      "  Set B predictors constructed.\n",
      "\n",
      "Selecting final model variables and dropping intermediate columns...\n",
      "  Shape of DataFrame after final column selection: (170598, 30)\n",
      "  Final columns kept: 30 columns\n",
      "\n",
      "Feature construction complete. Final DataFrame shape: (170598, 30)\n",
      "\n",
      "Starting final dropna. Initial rows: 170598, DataFrame shape: (170598, 30)\n",
      "  Rows dropped due to NaNs in critical model variables: 47149\n",
      "  Shape of analytical sample AFTER final dropna: (123449, 30)\n",
      "  Verification: No NaNs in checked columns of analytical sample.\n",
      "\n",
      "Starting annual winsorization for 22 columns...\n",
      "  Winsorizing column: Accruals_Scaled_t\n",
      "  Winsorizing column: CAPX_Scaled_t\n",
      "  Winsorizing column: CapitalIntensity_t\n",
      "  Winsorizing column: CurrentRatio_t\n",
      "  Winsorizing column: DP_Scaled_t\n",
      "  Winsorizing column: DebtToAssets_t\n",
      "  Winsorizing column: Delta_AP_Scaled_t\n",
      "  Winsorizing column: Delta_Inv_Scaled_t\n",
      "  Winsorizing column: Delta_Rec_Scaled_t\n",
      "  Winsorizing column: Delta_Sales_Scaled_t\n",
      "  Winsorizing column: GPM_t\n",
      "  Winsorizing column: InvTurnover_t\n",
      "  Winsorizing column: MkBk_t\n",
      "  Winsorizing column: NI_Scaled_Lag_t\n",
      "  Winsorizing column: NI_Scaled_t\n",
      "  Winsorizing column: OCF_Scaled_Lag_t\n",
      "  Winsorizing column: OCF_Scaled_t_plus_1\n",
      "  Winsorizing column: OCFtoSales_t\n",
      "  Winsorizing column: RecTurnover_t\n",
      "  Winsorizing column: XRD_Scaled_t\n",
      "  Winsorizing column: XSGA_Scaled_t\n",
      "  Winsorizing column: ln_at_t\n",
      "Annual winsorization complete.\n"
     ]
    }
   ],
   "source": [
    "# Restart kernel first to clear import cache\n",
    "# Then reload the modules with the corrected configuration\n",
    "\n",
    "# Force reimport of modules after configuration changes\n",
    "import importlib\n",
    "import sys\n",
    "\n",
    "# Remove from cache if already imported\n",
    "modules_to_reload = ['src.config', 'src.processing']\n",
    "for module in modules_to_reload:\n",
    "    if module in sys.modules:\n",
    "        del sys.modules[module]\n",
    "\n",
    "# Now import fresh\n",
    "import src.processing as processing\n",
    "import src.config as lists\n",
    "\n",
    "# Verify the configuration is correct now\n",
    "print(\"After fresh import:\")\n",
    "print(f\"DEPENDENT_VARIABLE type: {type(lists.DEPENDENT_VARIABLE)}\")\n",
    "print(f\"DEPENDENT_VARIABLE value: {lists.DEPENDENT_VARIABLE}\")\n",
    "\n",
    "# Load and process data\n",
    "df = processing.load_data(\"/Users/luis.m/Library/Mobile Documents/com~apple~CloudDocs/Documents ☁️/VSC Projects/Master_Thesis/data/raw/nvzfxcoxdvh1at7i.csv\")\n",
    "df_prepared = processing.prepare_data(df)\n",
    "df_added_features = processing.create_all_model_features_orchestrated(df_prepared)\n",
    "df_missing = processing.drop_missing_final_vars_streamlined(df_added_features, lists.final_set_A_predictor_names_and_dependent)\n",
    "df_final = processing.annual_winsorize_variables(df_missing, lists.columns_to_winsorize)"
   ]
  },
  {
   "cell_type": "code",
   "execution_count": 90,
   "id": "3e63dd55",
   "metadata": {},
   "outputs": [
    {
     "name": "stdout",
     "output_type": "stream",
     "text": [
      "Training set: 102567 obs (Predictor years <= 2018)\n",
      "Test set: 20882 obs (Predictor years > 2018)\n",
      "Training data shape: (102567, 30)\n",
      "Test data shape: (20882, 30)\n",
      "Training period: 2001.0 - 2018.0\n",
      "Test period: 2019.0 - 2022.0\n"
     ]
    }
   ],
   "source": [
    "# Split data chronologically - train on pre-2018, test on 2018+\n",
    "train_df, test_df = processing.split_data_chronologically(df_final, 'fyear', split_year=2018)\n",
    "\n",
    "print(f\"Training data shape: {train_df.shape}\")\n",
    "print(f\"Test data shape: {test_df.shape}\")\n",
    "print(f\"Training period: {train_df['fyear'].min()} - {train_df['fyear'].max()}\")\n",
    "print(f\"Test period: {test_df['fyear'].min()} - {test_df['fyear'].max()}\")\n"
   ]
  },
  {
   "cell_type": "code",
   "execution_count": 91,
   "id": "8feeb853",
   "metadata": {},
   "outputs": [
    {
     "name": "stdout",
     "output_type": "stream",
     "text": [
      "Features included in the model:\n",
      " 1. OCF_Scaled_Lag_t\n",
      " 2. NI_Scaled_t\n",
      " 3. Accruals_Scaled_t\n",
      " 4. Delta_Rec_Scaled_t\n",
      " 5. Delta_Inv_Scaled_t\n",
      " 6. Delta_AP_Scaled_t\n",
      " 7. DP_Scaled_t\n",
      " 8. ln_at_t\n",
      " 9. ASC606_dummy\n",
      "10. ASC842_dummy\n",
      "11. TCJA_dummy\n",
      "12. COVID_dummy\n",
      "\n",
      "Dependent variable: OCF_Scaled_t_plus_1\n",
      "Training observations: 102567\n",
      "Test observations: 20882\n"
     ]
    }
   ],
   "source": [
    "# Prepare features and dependent variable for OLS regression\n",
    "X_train = train_df[lists.SET_A_FEATURES + lists.CONTROL_DUMMY_FEATURES]\n",
    "y_train = train_df[lists.DEPENDENT_VARIABLE]  # Now using string directly\n",
    "\n",
    "X_test = test_df[lists.SET_A_FEATURES + lists.CONTROL_DUMMY_FEATURES]\n",
    "y_test = test_df[lists.DEPENDENT_VARIABLE]\n",
    "\n",
    "print(\"Features included in the model:\")\n",
    "for i, feature in enumerate(X_train.columns, 1):\n",
    "    print(f\"{i:2d}. {feature}\")\n",
    "\n",
    "print(f\"\\nDependent variable: {lists.DEPENDENT_VARIABLE}\")\n",
    "print(f\"Training observations: {len(X_train)}\")\n",
    "print(f\"Test observations: {len(X_test)}\")"
   ]
  },
  {
   "cell_type": "code",
   "execution_count": 93,
   "id": "0cff8bd8",
   "metadata": {},
   "outputs": [
    {
     "name": "stdout",
     "output_type": "stream",
     "text": [
      "BASELINE OLS PERFORMANCE:\n",
      "OLS (Train): R²=0.6372 | RMSE=0.6383 | MAE=0.2176\n",
      "OLS (Test): R²=0.6072 | RMSE=0.6112 | MAE=0.2260\n"
     ]
    }
   ],
   "source": [
    "# =============================================================================\n",
    "# SCIKIT-LEARN OLS - For ML Model Comparisons\n",
    "# =============================================================================\n",
    "\n",
    "from sklearn.linear_model import LinearRegression\n",
    "from sklearn.metrics import r2_score, mean_squared_error, mean_absolute_error\n",
    "import numpy as np\n",
    "\n",
    "# Fit OLS model\n",
    "ols_model = LinearRegression()\n",
    "ols_model.fit(X_train, y_train)\n",
    "\n",
    "# Predictions\n",
    "y_train_pred = ols_model.predict(X_train)\n",
    "y_test_pred = ols_model.predict(X_test)\n",
    "\n",
    "# Simple metrics function for any model\n",
    "def print_model_performance(y_true, y_pred, model_name, dataset):\n",
    "    r2 = r2_score(y_true, y_pred)\n",
    "    rmse = np.sqrt(mean_squared_error(y_true, y_pred))\n",
    "    mae = mean_absolute_error(y_true, y_pred)\n",
    "    print(f\"{model_name} ({dataset}): R²={r2:.4f} | RMSE={rmse:.4f} | MAE={mae:.4f}\")\n",
    "\n",
    "# Print results\n",
    "print(\"BASELINE OLS PERFORMANCE:\")\n",
    "print_model_performance(y_train, y_train_pred, \"OLS\", \"Train\")\n",
    "print_model_performance(y_test, y_test_pred, \"OLS\", \"Test\")"
   ]
  },
  {
   "cell_type": "code",
   "execution_count": 94,
   "id": "c753358b",
   "metadata": {},
   "outputs": [
    {
     "name": "stdout",
     "output_type": "stream",
     "text": [
      "REGRESSION TABLE FOR THESIS APPENDIX:\n",
      "================================================================================\n",
      "                             OLS Regression Results                            \n",
      "===============================================================================\n",
      "Dep. Variable:     OCF_Scaled_t_plus_1   R-squared:                       0.637\n",
      "Model:                             OLS   Adj. R-squared:                  0.637\n",
      "Method:                  Least Squares   F-statistic:                 2.002e+04\n",
      "Date:                 Wed, 28 May 2025   Prob (F-statistic):               0.00\n",
      "Time:                         19:31:17   Log-Likelihood:                -99485.\n",
      "No. Observations:               102567   AIC:                         1.990e+05\n",
      "Df Residuals:                   102557   BIC:                         1.991e+05\n",
      "Df Model:                            9                                         \n",
      "Covariance Type:             nonrobust                                         \n",
      "======================================================================================\n",
      "                         coef    std err          t      P>|t|      [0.025      0.975]\n",
      "--------------------------------------------------------------------------------------\n",
      "const                 -0.2490      0.005    -48.636      0.000      -0.259      -0.239\n",
      "OCF_Scaled_Lag_t       0.1649      0.002     84.131      0.000       0.161       0.169\n",
      "NI_Scaled_t            0.4138      0.002    172.411      0.000       0.409       0.418\n",
      "Accruals_Scaled_t     -0.3119      0.003    -89.675      0.000      -0.319      -0.305\n",
      "Delta_Rec_Scaled_t     0.6290      0.027     23.651      0.000       0.577       0.681\n",
      "Delta_Inv_Scaled_t     0.2524      0.047      5.355      0.000       0.160       0.345\n",
      "Delta_AP_Scaled_t     -0.4866      0.015    -32.510      0.000      -0.516      -0.457\n",
      "DP_Scaled_t            0.3438      0.039      8.789      0.000       0.267       0.420\n",
      "ln_at_t                0.0416      0.001     52.443      0.000       0.040       0.043\n",
      "ASC606_dummy          -0.0090      0.005     -1.972      0.049      -0.018    -5.6e-05\n",
      "ASC842_dummy                0          0        nan        nan           0           0\n",
      "TCJA_dummy            -0.0090      0.005     -1.972      0.049      -0.018    -5.6e-05\n",
      "COVID_dummy                 0          0        nan        nan           0           0\n",
      "==============================================================================\n",
      "Omnibus:                    96459.264   Durbin-Watson:                   2.076\n",
      "Prob(Omnibus):                  0.000   Jarque-Bera (JB):         32433923.953\n",
      "Skew:                          -3.829   Prob(JB):                         0.00\n",
      "Kurtosis:                      89.779   Cond. No.                          inf\n",
      "==============================================================================\n",
      "\n",
      "Notes:\n",
      "[1] Standard Errors assume that the covariance matrix of the errors is correctly specified.\n",
      "[2] The smallest eigenvalue is      0. This might indicate that there are\n",
      "strong multicollinearity problems or that the design matrix is singular.\n",
      "\n",
      "LATEX CODE FOR APPENDIX:\n",
      "================================================================================\n",
      "\\begin{center}\n",
      "\\begin{tabular}{lclc}\n",
      "\\toprule\n",
      "\\textbf{Dep. Variable:}        & OCF\\_Scaled\\_t\\_plus\\_1 & \\textbf{  R-squared:         } &      0.637    \\\\\n",
      "\\textbf{Model:}                &           OLS           & \\textbf{  Adj. R-squared:    } &      0.637    \\\\\n",
      "\\textbf{Method:}               &      Least Squares      & \\textbf{  F-statistic:       } &  2.002e+04    \\\\\n",
      "\\textbf{Date:}                 &     Wed, 28 May 2025    & \\textbf{  Prob (F-statistic):} &      0.00     \\\\\n",
      "\\textbf{Time:}                 &         19:31:17        & \\textbf{  Log-Likelihood:    } &    -99485.    \\\\\n",
      "\\textbf{No. Observations:}     &          102567         & \\textbf{  AIC:               } &  1.990e+05    \\\\\n",
      "\\textbf{Df Residuals:}         &          102557         & \\textbf{  BIC:               } &  1.991e+05    \\\\\n",
      "\\textbf{Df Model:}             &               9         & \\textbf{                     } &               \\\\\n",
      "\\textbf{Covariance Type:}      &        nonrobust        & \\textbf{                     } &               \\\\\n",
      "\\bottomrule\n",
      "\\end{tabular}\n",
      "\\begin{tabular}{lcccccc}\n",
      "                               & \\textbf{coef} & \\textbf{std err} & \\textbf{t} & \\textbf{P$> |$t$|$} & \\textbf{[0.025} & \\textbf{0.975]}  \\\\\n",
      "\\midrule\n",
      "\\textbf{const}                 &      -0.2490  &        0.005     &   -48.636  &         0.000        &       -0.259    &       -0.239     \\\\\n",
      "\\textbf{OCF\\_Scaled\\_Lag\\_t}   &       0.1649  &        0.002     &    84.131  &         0.000        &        0.161    &        0.169     \\\\\n",
      "\\textbf{NI\\_Scaled\\_t}         &       0.4138  &        0.002     &   172.411  &         0.000        &        0.409    &        0.418     \\\\\n",
      "\\textbf{Accruals\\_Scaled\\_t}   &      -0.3119  &        0.003     &   -89.675  &         0.000        &       -0.319    &       -0.305     \\\\\n",
      "\\textbf{Delta\\_Rec\\_Scaled\\_t} &       0.6290  &        0.027     &    23.651  &         0.000        &        0.577    &        0.681     \\\\\n",
      "\\textbf{Delta\\_Inv\\_Scaled\\_t} &       0.2524  &        0.047     &     5.355  &         0.000        &        0.160    &        0.345     \\\\\n",
      "\\textbf{Delta\\_AP\\_Scaled\\_t}  &      -0.4866  &        0.015     &   -32.510  &         0.000        &       -0.516    &       -0.457     \\\\\n",
      "\\textbf{DP\\_Scaled\\_t}         &       0.3438  &        0.039     &     8.789  &         0.000        &        0.267    &        0.420     \\\\\n",
      "\\textbf{ln\\_at\\_t}             &       0.0416  &        0.001     &    52.443  &         0.000        &        0.040    &        0.043     \\\\\n",
      "\\textbf{ASC606\\_dummy}         &      -0.0090  &        0.005     &    -1.972  &         0.049        &       -0.018    &     -5.6e-05     \\\\\n",
      "\\textbf{ASC842\\_dummy}         &            0  &            0     &       nan  &           nan        &            0    &            0     \\\\\n",
      "\\textbf{TCJA\\_dummy}           &      -0.0090  &        0.005     &    -1.972  &         0.049        &       -0.018    &     -5.6e-05     \\\\\n",
      "\\textbf{COVID\\_dummy}          &            0  &            0     &       nan  &           nan        &            0    &            0     \\\\\n",
      "\\bottomrule\n",
      "\\end{tabular}\n",
      "\\begin{tabular}{lclc}\n",
      "\\textbf{Omnibus:}       & 96459.264 & \\textbf{  Durbin-Watson:     } &      2.076    \\\\\n",
      "\\textbf{Prob(Omnibus):} &    0.000  & \\textbf{  Jarque-Bera (JB):  } & 32433923.953  \\\\\n",
      "\\textbf{Skew:}          &   -3.829  & \\textbf{  Prob(JB):          } &       0.00    \\\\\n",
      "\\textbf{Kurtosis:}      &   89.779  & \\textbf{  Cond. No.          } &        inf    \\\\\n",
      "\\bottomrule\n",
      "\\end{tabular}\n",
      "%\\caption{OLS Regression Results}\n",
      "\\end{center}\n",
      "\n",
      "Notes: \\newline\n",
      " [1] Standard Errors assume that the covariance matrix of the errors is correctly specified. \\newline\n",
      " [2] The smallest eigenvalue is      0. This might indicate that there are \\newline\n",
      " strong multicollinearity problems or that the design matrix is singular.\n"
     ]
    },
    {
     "name": "stderr",
     "output_type": "stream",
     "text": [
      "/Users/luis.m/Library/Mobile Documents/com~apple~CloudDocs/Documents ☁️/VSC Projects/Master_Thesis/.venv/lib/python3.13/site-packages/statsmodels/regression/linear_model.py:1966: RuntimeWarning: divide by zero encountered in scalar divide\n",
      "  return np.sqrt(eigvals[0]/eigvals[-1])\n"
     ]
    }
   ],
   "source": [
    "# =============================================================================\n",
    "# STATSMODELS REGRESSION TABLE - For Thesis Appendix\n",
    "# =============================================================================\n",
    "\n",
    "import statsmodels.api as sm\n",
    "import pandas as pd\n",
    "\n",
    "# Fit statsmodels for detailed regression table\n",
    "X_train_sm = sm.add_constant(X_train)\n",
    "regression_model = sm.OLS(y_train, X_train_sm).fit()\n",
    "\n",
    "# Print publication-ready summary\n",
    "print(\"REGRESSION TABLE FOR THESIS APPENDIX:\")\n",
    "print(\"=\"*80)\n",
    "print(regression_model.summary())\n",
    "\n",
    "# LaTeX table for appendix\n",
    "print(\"\\nLATEX CODE FOR APPENDIX:\")\n",
    "print(\"=\"*80)\n",
    "print(regression_model.summary().as_latex())"
   ]
  }
 ],
 "metadata": {
  "kernelspec": {
   "display_name": ".venv (3.13.1)",
   "language": "python",
   "name": "python3"
  },
  "language_info": {
   "codemirror_mode": {
    "name": "ipython",
    "version": 3
   },
   "file_extension": ".py",
   "mimetype": "text/x-python",
   "name": "python",
   "nbconvert_exporter": "python",
   "pygments_lexer": "ipython3",
   "version": "3.13.1"
  }
 },
 "nbformat": 4,
 "nbformat_minor": 5
}
