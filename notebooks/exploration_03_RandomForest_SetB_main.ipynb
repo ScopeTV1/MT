{
 "cells": [
  {
   "cell_type": "code",
   "execution_count": 1,
   "id": "6c0c2481",
   "metadata": {},
   "outputs": [],
   "source": [
    "# Enable auto-reloading of external modules - useful during development\n",
    "%load_ext autoreload\n",
    "%autoreload 2\n",
    "\n",
    "# Configure Python path to find our custom modules\n",
    "import sys\n",
    "from pathlib import Path\n",
    "\n",
    "# Add project root to the Python path for proper imports\n",
    "project_root = Path.cwd().parent\n",
    "if project_root not in sys.path:\n",
    "    sys.path.insert(0, str(project_root))"
   ]
  },
  {
   "cell_type": "code",
   "execution_count": 2,
   "id": "96b75c9a",
   "metadata": {},
   "outputs": [],
   "source": [
    "# Import necessary libraries\n",
    "import src.processing as processing\n",
    "import src.config as lists"
   ]
  },
  {
   "cell_type": "code",
   "execution_count": 3,
   "id": "faa1bf03",
   "metadata": {},
   "outputs": [
    {
     "name": "stderr",
     "output_type": "stream",
     "text": [
      "/Users/luis.m/Library/Mobile Documents/com~apple~CloudDocs/Documents ☁️/VSC Projects/Master_Thesis/src/processing.py:42: DtypeWarning: Columns (10,11,12,16,17,22,26,30,33,34,35,945,946,948,949,950,955,969,970,975,980) have mixed types. Specify dtype option on import or set low_memory=False.\n",
      "  data = pd.read_csv(file_path)\n"
     ]
    },
    {
     "name": "stdout",
     "output_type": "stream",
     "text": [
      "Data loaded successfully from /Users/luis.m/Library/Mobile Documents/com~apple~CloudDocs/Documents ☁️/VSC Projects/Master_Thesis/data/raw/nvzfxcoxdvh1at7i.csv\n",
      "Original number of observations: 317304\n",
      "Number of columns after selection: 30\n",
      "Observations after year filter (2000-2023): 302751\n",
      "Observations after excluding financial and utility firms: 170598\n",
      "Starting feature construction. Initial df shape: (170598, 30)\n",
      "  Creating lags for: ['at', 'ni', 'rect', 'invt', 'ap', 'sale']\n",
      "\n",
      "Performing pre-calculation validity checks & preparations...\n",
      "  Missing 'xrd' values filled with 0.\n",
      "  'ipo_year' created from 'ipodate'.\n",
      "\n",
      "Constructing dependent variable...\n",
      "  OCF_Scaled_t_plus_1 created.\n",
      "\n",
      "Constructing Set A (OLS) predictors...\n",
      "  Set A predictors constructed.\n",
      "\n",
      "Constructing control dummy variables...\n",
      "  Dummy variables constructed.\n",
      "\n",
      "Constructing Set B (additional ML) predictors...\n",
      "  Set B predictors constructed.\n",
      "\n",
      "Selecting final model variables and dropping intermediate columns...\n",
      "  Shape of DataFrame after final column selection: (170598, 31)\n",
      "  Final columns kept: 31 columns\n",
      "\n",
      "Feature construction complete. Final DataFrame shape: (170598, 31)\n",
      "\n",
      "Starting final dropna. Initial rows: 170598, DataFrame shape: (170598, 31)\n",
      "  Rows dropped due to NaNs in critical model variables: 47149\n",
      "  Shape of analytical sample AFTER final dropna: (123449, 31)\n",
      "  Verification: No NaNs in checked columns of analytical sample.\n",
      "\n",
      "Starting annual winsorization for 22 columns...\n",
      "  Winsorizing column: Accruals_Scaled_t\n",
      "  Winsorizing column: CAPX_Scaled_t\n",
      "  Winsorizing column: CapitalIntensity_t\n",
      "  Winsorizing column: CurrentRatio_t\n",
      "  Winsorizing column: DP_Scaled_t\n",
      "  Winsorizing column: DebtToAssets_t\n",
      "  Winsorizing column: Delta_AP_Scaled_t\n",
      "  Winsorizing column: Delta_Inv_Scaled_t\n",
      "  Winsorizing column: Delta_Rec_Scaled_t\n",
      "  Winsorizing column: Delta_Sales_Scaled_t\n",
      "  Winsorizing column: GPM_t\n",
      "  Winsorizing column: InvTurnover_t\n",
      "  Winsorizing column: MkBk_t\n",
      "  Winsorizing column: NI_Scaled_Lag_t\n",
      "  Winsorizing column: NI_Scaled_t\n",
      "  Winsorizing column: OCF_Scaled_Lag_t\n",
      "  Winsorizing column: OCF_Scaled_t_plus_1\n",
      "  Winsorizing column: OCFtoSales_t\n",
      "  Winsorizing column: RecTurnover_t\n",
      "  Winsorizing column: XRD_Scaled_t\n",
      "  Winsorizing column: XSGA_Scaled_t\n",
      "  Winsorizing column: ln_at_t\n",
      "Annual winsorization complete.\n"
     ]
    }
   ],
   "source": [
    "# Load and process data\n",
    "df = processing.load_data(\"/Users/luis.m/Library/Mobile Documents/com~apple~CloudDocs/Documents ☁️/VSC Projects/Master_Thesis/data/raw/nvzfxcoxdvh1at7i.csv\")\n",
    "df_prepared = processing.prepare_data(df)\n",
    "df_added_features = processing.create_all_model_features_orchestrated(df_prepared)\n",
    "df_missing = processing.drop_missing_final_vars_streamlined(df_added_features, lists.final_set_A_predictor_names_and_dependent)\n",
    "df_final = processing.annual_winsorize_variables(df_missing, lists.columns_to_winsorize)"
   ]
  },
  {
   "cell_type": "code",
   "execution_count": 4,
   "id": "f0c16b4d",
   "metadata": {},
   "outputs": [
    {
     "name": "stdout",
     "output_type": "stream",
     "text": [
      "Training set: 102567 obs (Predictor years <= 2018)\n",
      "Test set: 20882 obs (Predictor years > 2018)\n",
      "Training data shape: (102567, 31)\n",
      "Test data shape: (20882, 31)\n",
      "Training period: 2001.0 - 2018.0\n",
      "Test period: 2019.0 - 2022.0\n"
     ]
    }
   ],
   "source": [
    "# Split data chronologically - train on pre-2018, test on 2018+\n",
    "train_df, test_df = processing.split_data_chronologically(df_final, 'fyear', split_year=2018)\n",
    "\n",
    "print(f\"Training data shape: {train_df.shape}\")\n",
    "print(f\"Test data shape: {test_df.shape}\")\n",
    "print(f\"Training period: {train_df['fyear'].min()} - {train_df['fyear'].max()}\")\n",
    "print(f\"Test period: {test_df['fyear'].min()} - {test_df['fyear'].max()}\")"
   ]
  },
  {
   "cell_type": "code",
   "execution_count": 5,
   "id": "3b442b93",
   "metadata": {},
   "outputs": [
    {
     "name": "stdout",
     "output_type": "stream",
     "text": [
      "Features included in the model:\n",
      " 1. OCF_Scaled_Lag_t\n",
      " 2. NI_Scaled_t\n",
      " 3. Accruals_Scaled_t\n",
      " 4. Delta_Rec_Scaled_t\n",
      " 5. Delta_Inv_Scaled_t\n",
      " 6. Delta_AP_Scaled_t\n",
      " 7. DP_Scaled_t\n",
      " 8. ln_at_t\n",
      " 9. XSGA_Scaled_t\n",
      "10. XRD_Scaled_t\n",
      "11. CAPX_Scaled_t\n",
      "12. CurrentRatio_t\n",
      "13. DebtToAssets_t\n",
      "14. OCFtoSales_t\n",
      "15. InvTurnover_t\n",
      "16. RecTurnover_t\n",
      "17. GPM_t\n",
      "18. Delta_Sales_Scaled_t\n",
      "19. NI_Scaled_Lag_t\n",
      "20. CapitalIntensity_t\n",
      "21. MkBk_t\n",
      "22. FirmAge_t\n",
      "23. ASC606_TCJA_combined_dummy\n",
      "\n",
      "Dependent variable: OCF_Scaled_t_plus_1\n",
      "Training observations: 102567\n",
      "Test observations: 20882\n"
     ]
    }
   ],
   "source": [
    "# Set B (Additional ML) predictor feature names\n",
    "SET_B_FEATURES = [\n",
    "    'XSGA_Scaled_t', 'XRD_Scaled_t', 'CAPX_Scaled_t', 'CurrentRatio_t',\n",
    "    'DebtToAssets_t', 'OCFtoSales_t', 'InvTurnover_t', 'RecTurnover_t',\n",
    "    'GPM_t', 'Delta_Sales_Scaled_t', 'NI_Scaled_Lag_t',\n",
    "    'CapitalIntensity_t', 'MkBk_t', 'FirmAge_t'\n",
    "]\n",
    "\n",
    "# Prepare features and dependent variable for Random Forest regression\n",
    "# Using SET_A + SET_B + dummy controls to show the full power of ML\n",
    "X_train = train_df[lists.SET_A_FEATURES + lists.SET_B_FEATURES + lists.OLS_DUMMY_FEATURES_FINAL]\n",
    "y_train = train_df[lists.DEPENDENT_VARIABLE]\n",
    "\n",
    "X_test = test_df[lists.SET_A_FEATURES + lists.SET_B_FEATURES + lists.OLS_DUMMY_FEATURES_FINAL]\n",
    "y_test = test_df[lists.DEPENDENT_VARIABLE]\n",
    "\n",
    "print(\"Features included in the model:\")\n",
    "for i, feature in enumerate(X_train.columns, 1):\n",
    "    print(f\"{i:2d}. {feature}\")\n",
    "\n",
    "print(f\"\\nDependent variable: {lists.DEPENDENT_VARIABLE}\")\n",
    "print(f\"Training observations: {len(X_train)}\")\n",
    "print(f\"Test observations: {len(X_test)}\")"
   ]
  },
  {
   "cell_type": "code",
   "execution_count": 6,
   "id": "e301a857",
   "metadata": {},
   "outputs": [
    {
     "name": "stdout",
     "output_type": "stream",
     "text": [
      "Performing randomized search for Random Forest hyperparameter tuning...\n",
      "Using out-of-bag samples for validation...\n",
      "Fitting 3 folds for each of 20 candidates, totalling 60 fits\n"
     ]
    },
    {
     "name": "stderr",
     "output_type": "stream",
     "text": [
      "/Users/luis.m/Library/Mobile Documents/com~apple~CloudDocs/Documents ☁️/VSC Projects/Master_Thesis/.venv/lib/python3.13/site-packages/joblib/externals/loky/process_executor.py:782: UserWarning: A worker stopped while some jobs were given to the executor. This can be caused by a too short worker timeout or by a memory leak.\n",
      "  warnings.warn(\n"
     ]
    },
    {
     "name": "stdout",
     "output_type": "stream",
     "text": [
      "\n",
      "Best hyperparameters: {'n_estimators': 200, 'min_samples_split': 2, 'min_samples_leaf': 1, 'max_features': 'sqrt', 'max_depth': None}\n",
      "Best CV R² score: 0.7144\n",
      "Standard deviation: 0.0165\n",
      "Randomized search completed in 1525.33 seconds\n"
     ]
    }
   ],
   "source": [
    "# =============================================================================\n",
    "# OOB VALIDATION FOR HYPERPARAMETER TUNING\n",
    "# =============================================================================\n",
    "\n",
    "from sklearn.ensemble import RandomForestRegressor\n",
    "from sklearn.model_selection import cross_val_score, RandomizedSearchCV\n",
    "from sklearn.metrics import r2_score, mean_squared_error, mean_absolute_error\n",
    "import numpy as np\n",
    "import time\n",
    "\n",
    "# Define hyperparameter ranges for OOB validation\n",
    "param_distributions = {\n",
    "    'n_estimators': [100, 200],\n",
    "    'max_depth': [10, 20, None],\n",
    "    'min_samples_split': [2, 10],\n",
    "    'min_samples_leaf': [1, 4],\n",
    "    'max_features': ['sqrt', 'log2']\n",
    "}\n",
    "\n",
    "# Create Random Forest regressor\n",
    "rf_regressor = RandomForestRegressor(random_state=42, n_jobs=-1, oob_score=True)\n",
    "\n",
    "# Perform randomized search for Random Forest hyperparameter tuning\n",
    "print(\"Performing randomized search for Random Forest hyperparameter tuning...\")\n",
    "print(\"Using out-of-bag samples for validation...\")\n",
    "\n",
    "start_time = time.time()\n",
    "\n",
    "# Use RandomizedSearchCV for faster hyperparameter tuning\n",
    "# Test 20 random combinations instead of all combinations (48 total)\n",
    "random_search = RandomizedSearchCV(\n",
    "    estimator=rf_regressor,\n",
    "    param_distributions=param_distributions,\n",
    "    n_iter=20,  # Test 20 random combinations instead of all 48\n",
    "    cv=3,       # Reduced from 5 to 3 folds for faster execution\n",
    "    scoring='r2',\n",
    "    random_state=42,\n",
    "    n_jobs=-1,\n",
    "    verbose=1\n",
    ")\n",
    "\n",
    "random_search.fit(X_train, y_train)\n",
    "\n",
    "# Get best parameters and model\n",
    "best_params = random_search.best_params_\n",
    "best_score = random_search.best_score_\n",
    "best_model = random_search.best_estimator_\n",
    "\n",
    "# Print best parameters and score\n",
    "print(f\"\\nBest hyperparameters: {best_params}\")\n",
    "print(f\"Best CV R² score: {best_score:.4f}\")\n",
    "\n",
    "# Calculate standard deviation from cross-validation results (using 3 folds for speed)\n",
    "cv_scores = cross_val_score(best_model, X_train, y_train, cv=3, scoring='r2')\n",
    "print(f\"Standard deviation: {np.std(cv_scores):.4f}\")\n",
    "\n",
    "elapsed_time = time.time() - start_time\n",
    "print(f\"Randomized search completed in {elapsed_time:.2f} seconds\")"
   ]
  },
  {
   "cell_type": "code",
   "execution_count": 7,
   "id": "03436014",
   "metadata": {},
   "outputs": [
    {
     "name": "stdout",
     "output_type": "stream",
     "text": [
      "RANDOM FOREST PERFORMANCE (SET A + SET B FEATURES):\n",
      "Random Forest (Train): R²=0.9597 | RMSE=0.2128 | MAE=0.0640\n",
      "Random Forest (Test): R²=0.6910 | RMSE=0.5422 | MAE=0.1817\n"
     ]
    }
   ],
   "source": [
    "# =============================================================================\n",
    "# RANDOM FOREST MODEL - For ML Model Comparisons\n",
    "# =============================================================================\n",
    "\n",
    "# Use the best model from OOB validation\n",
    "best_rf_model = best_model\n",
    "\n",
    "# Predictions\n",
    "y_train_pred = best_rf_model.predict(X_train)\n",
    "y_test_pred = best_rf_model.predict(X_test)\n",
    "\n",
    "# Simple metrics function for any model\n",
    "def print_model_performance(y_true, y_pred, model_name, dataset):\n",
    "    r2 = r2_score(y_true, y_pred)\n",
    "    rmse = np.sqrt(mean_squared_error(y_true, y_pred))\n",
    "    mae = mean_absolute_error(y_true, y_pred)\n",
    "    print(f\"{model_name} ({dataset}): R²={r2:.4f} | RMSE={rmse:.4f} | MAE={mae:.4f}\")\n",
    "\n",
    "# Print results\n",
    "print(\"RANDOM FOREST PERFORMANCE (SET A + SET B FEATURES):\")\n",
    "print_model_performance(y_train, y_train_pred, \"Random Forest\", \"Train\")\n",
    "print_model_performance(y_test, y_test_pred, \"Random Forest\", \"Test\")"
   ]
  },
  {
   "cell_type": "code",
   "execution_count": 8,
   "id": "8a00d436",
   "metadata": {},
   "outputs": [
    {
     "name": "stdout",
     "output_type": "stream",
     "text": [
      "FEATURE IMPORTANCE RANKING (SET A + SET B FEATURES):\n",
      "==================================================\n",
      " 1. XSGA_Scaled_t             0.1623\n",
      " 2. NI_Scaled_t               0.1545\n",
      " 3. ln_at_t                   0.1037\n",
      " 4. OCF_Scaled_Lag_t          0.0901\n",
      " 5. Accruals_Scaled_t         0.0790\n",
      " 6. DebtToAssets_t            0.0742\n",
      " 7. NI_Scaled_Lag_t           0.0619\n",
      " 8. Delta_AP_Scaled_t         0.0410\n",
      " 9. OCFtoSales_t              0.0355\n",
      "10. MkBk_t                    0.0347\n",
      "11. CurrentRatio_t            0.0328\n",
      "12. XRD_Scaled_t              0.0236\n",
      "13. GPM_t                     0.0156\n",
      "14. Delta_Rec_Scaled_t        0.0141\n",
      "15. CAPX_Scaled_t             0.0140\n",
      "16. CapitalIntensity_t        0.0136\n",
      "17. DP_Scaled_t               0.0127\n",
      "18. RecTurnover_t             0.0106\n",
      "19. Delta_Sales_Scaled_t      0.0104\n",
      "20. FirmAge_t                 0.0060\n",
      "21. InvTurnover_t             0.0043\n",
      "22. Delta_Inv_Scaled_t        0.0043\n",
      "23. ASC606_TCJA_combined_dummy 0.0014\n",
      "\n",
      "MODEL DETAILS:\n",
      "N Estimators: 200\n",
      "Max Depth: None\n",
      "Min Samples Split: 2\n",
      "Min Samples Leaf: 1\n",
      "Max Features: sqrt\n",
      "Number of Features: 23\n",
      "Out-of-bag Score: 0.7160564607949313\n"
     ]
    }
   ],
   "source": [
    "# =============================================================================\n",
    "# FEATURE IMPORTANCE ANALYSIS\n",
    "# =============================================================================\n",
    "\n",
    "import pandas as pd\n",
    "\n",
    "# Get feature importances\n",
    "feature_importance = pd.DataFrame({\n",
    "    'feature': X_train.columns,\n",
    "    'importance': best_rf_model.feature_importances_\n",
    "}).sort_values('importance', ascending=False)\n",
    "\n",
    "print(\"FEATURE IMPORTANCE RANKING (SET A + SET B FEATURES):\")\n",
    "print(\"=\"*50)\n",
    "for i, (_, row) in enumerate(feature_importance.iterrows(), 1):\n",
    "    print(f\"{i:2d}. {row['feature']:<25} {row['importance']:.4f}\")\n",
    "\n",
    "# Print model details\n",
    "print(f\"\\nMODEL DETAILS:\")\n",
    "print(f\"N Estimators: {best_rf_model.n_estimators}\")\n",
    "print(f\"Max Depth: {best_rf_model.max_depth}\")\n",
    "print(f\"Min Samples Split: {best_rf_model.min_samples_split}\")\n",
    "print(f\"Min Samples Leaf: {best_rf_model.min_samples_leaf}\")\n",
    "print(f\"Max Features: {best_rf_model.max_features}\")\n",
    "print(f\"Number of Features: {best_rf_model.n_features_in_}\")\n",
    "print(f\"Out-of-bag Score: {best_rf_model.oob_score_ if hasattr(best_rf_model, 'oob_score_') and best_rf_model.oob_score else 'Not available'}\")"
   ]
  }
 ],
 "metadata": {
  "kernelspec": {
   "display_name": ".venv (3.13.1)",
   "language": "python",
   "name": "python3"
  },
  "language_info": {
   "codemirror_mode": {
    "name": "ipython",
    "version": 3
   },
   "file_extension": ".py",
   "mimetype": "text/x-python",
   "name": "python",
   "nbconvert_exporter": "python",
   "pygments_lexer": "ipython3",
   "version": "3.13.1"
  }
 },
 "nbformat": 4,
 "nbformat_minor": 5
}
