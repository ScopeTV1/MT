{
 "cells": [
  {
   "cell_type": "code",
   "execution_count": 1,
   "id": "aebb1c44",
   "metadata": {},
   "outputs": [],
   "source": [
    "# Enable auto-reloading of external modules - useful during development\n",
    "%load_ext autoreload\n",
    "%autoreload 2\n",
    "\n",
    "# Configure Python path to find our custom modules\n",
    "import sys\n",
    "from pathlib import Path\n",
    "\n",
    "# Add project root to the Python path for proper imports\n",
    "project_root = Path.cwd().parent\n",
    "if project_root not in sys.path:\n",
    "    sys.path.insert(0, str(project_root))"
   ]
  },
  {
   "cell_type": "code",
   "execution_count": 2,
   "id": "6a11ab95",
   "metadata": {},
   "outputs": [],
   "source": [
    "# Import necessary libraries\n",
    "import src.processing as processing\n",
    "import src.config as lists"
   ]
  },
  {
   "cell_type": "code",
   "execution_count": 3,
   "id": "346437de",
   "metadata": {},
   "outputs": [
    {
     "name": "stderr",
     "output_type": "stream",
     "text": [
      "/Users/luis.m/Library/Mobile Documents/com~apple~CloudDocs/Documents ☁️/VSC Projects/Master_Thesis/src/processing.py:42: DtypeWarning: Columns (10,11,12,16,17,22,26,30,33,34,35,945,946,948,949,950,955,969,970,975,980) have mixed types. Specify dtype option on import or set low_memory=False.\n",
      "  data = pd.read_csv(file_path)\n"
     ]
    },
    {
     "name": "stdout",
     "output_type": "stream",
     "text": [
      "Data loaded successfully from /Users/luis.m/Library/Mobile Documents/com~apple~CloudDocs/Documents ☁️/VSC Projects/Master_Thesis/data/raw/nvzfxcoxdvh1at7i.csv\n",
      "Original number of observations: 317304\n",
      "Number of columns after selection: 30\n",
      "Observations after year filter (2000-2023): 302751\n",
      "Observations after excluding financial and utility firms: 170598\n",
      "Starting feature construction. Initial df shape: (170598, 30)\n",
      "  Creating lags for: ['at', 'ni', 'rect', 'invt', 'ap', 'sale']\n",
      "\n",
      "Performing pre-calculation validity checks & preparations...\n",
      "  Missing 'xrd' values filled with 0.\n",
      "  'ipo_year' created from 'ipodate'.\n",
      "\n",
      "Constructing dependent variable...\n",
      "  OCF_Scaled_t_plus_1 created.\n",
      "\n",
      "Constructing Set A (OLS) predictors...\n",
      "  Set A predictors constructed.\n",
      "\n",
      "Constructing control dummy variables...\n",
      "  Dummy variables constructed.\n",
      "\n",
      "Constructing Set B (additional ML) predictors...\n",
      "  Set B predictors constructed.\n",
      "\n",
      "Selecting final model variables and dropping intermediate columns...\n",
      "  Shape of DataFrame after final column selection: (170598, 30)\n",
      "  Final columns kept: 30 columns\n",
      "\n",
      "Feature construction complete. Final DataFrame shape: (170598, 30)\n",
      "\n",
      "Starting final dropna. Initial rows: 170598, DataFrame shape: (170598, 30)\n",
      "  Rows dropped due to NaNs in critical model variables: 47149\n",
      "  Shape of analytical sample AFTER final dropna: (123449, 30)\n",
      "  Verification: No NaNs in checked columns of analytical sample.\n",
      "\n",
      "Starting annual winsorization for 22 columns...\n",
      "  Winsorizing column: Accruals_Scaled_t\n",
      "  Winsorizing column: CAPX_Scaled_t\n",
      "  Winsorizing column: CapitalIntensity_t\n",
      "  Winsorizing column: CurrentRatio_t\n",
      "  Winsorizing column: DP_Scaled_t\n",
      "  Winsorizing column: DebtToAssets_t\n",
      "  Winsorizing column: Delta_AP_Scaled_t\n",
      "  Winsorizing column: Delta_Inv_Scaled_t\n",
      "  Winsorizing column: Delta_Rec_Scaled_t\n",
      "  Winsorizing column: Delta_Sales_Scaled_t\n",
      "  Winsorizing column: GPM_t\n",
      "  Winsorizing column: InvTurnover_t\n",
      "  Winsorizing column: MkBk_t\n",
      "  Winsorizing column: NI_Scaled_Lag_t\n",
      "  Winsorizing column: NI_Scaled_t\n",
      "  Winsorizing column: OCF_Scaled_Lag_t\n",
      "  Winsorizing column: OCF_Scaled_t_plus_1\n",
      "  Winsorizing column: OCFtoSales_t\n",
      "  Winsorizing column: RecTurnover_t\n",
      "  Winsorizing column: XRD_Scaled_t\n",
      "  Winsorizing column: XSGA_Scaled_t\n",
      "  Winsorizing column: ln_at_t\n",
      "Annual winsorization complete.\n"
     ]
    }
   ],
   "source": [
    "# Load and process data\n",
    "df = processing.load_data(\"/Users/luis.m/Library/Mobile Documents/com~apple~CloudDocs/Documents ☁️/VSC Projects/Master_Thesis/data/raw/nvzfxcoxdvh1at7i.csv\")\n",
    "df_prepared = processing.prepare_data(df)\n",
    "df_added_features = processing.create_all_model_features_orchestrated(df_prepared)\n",
    "df_missing = processing.drop_missing_final_vars_streamlined(df_added_features, lists.final_set_A_predictor_names_and_dependent)\n",
    "df_final = processing.annual_winsorize_variables(df_missing, lists.columns_to_winsorize)"
   ]
  },
  {
   "cell_type": "code",
   "execution_count": 4,
   "id": "f6e5542e",
   "metadata": {},
   "outputs": [
    {
     "name": "stdout",
     "output_type": "stream",
     "text": [
      "Training set: 102567 obs (Predictor years <= 2018)\n",
      "Test set: 20882 obs (Predictor years > 2018)\n",
      "Training data shape: (102567, 30)\n",
      "Test data shape: (20882, 30)\n",
      "Training period: 2001.0 - 2018.0\n",
      "Test period: 2019.0 - 2022.0\n"
     ]
    }
   ],
   "source": [
    "# Split data chronologically - train on pre-2018, test on 2018+\n",
    "train_df, test_df = processing.split_data_chronologically(df_final, 'fyear', split_year=2018)\n",
    "\n",
    "print(f\"Training data shape: {train_df.shape}\")\n",
    "print(f\"Test data shape: {test_df.shape}\")\n",
    "print(f\"Training period: {train_df['fyear'].min()} - {train_df['fyear'].max()}\")\n",
    "print(f\"Test period: {test_df['fyear'].min()} - {test_df['fyear'].max()}\")"
   ]
  },
  {
   "cell_type": "code",
   "execution_count": 5,
   "id": "300e154e",
   "metadata": {},
   "outputs": [
    {
     "name": "stdout",
     "output_type": "stream",
     "text": [
      "Features included in the model:\n",
      " 1. OCF_Scaled_Lag_t\n",
      " 2. NI_Scaled_t\n",
      " 3. Accruals_Scaled_t\n",
      " 4. Delta_Rec_Scaled_t\n",
      " 5. Delta_Inv_Scaled_t\n",
      " 6. Delta_AP_Scaled_t\n",
      " 7. DP_Scaled_t\n",
      " 8. ln_at_t\n",
      " 9. ASC606_dummy\n",
      "10. TCJA_dummy\n",
      "\n",
      "Dependent variable: OCF_Scaled_t_plus_1\n",
      "Training observations: 102567\n",
      "Test observations: 20882\n"
     ]
    }
   ],
   "source": [
    "# Prepare features and dependent variable for Stacking regression\n",
    "X_train = train_df[lists.SET_A_FEATURES + lists.CONTROL_DUMMY_FEATURES]\n",
    "y_train = train_df[lists.DEPENDENT_VARIABLE]\n",
    "\n",
    "X_test = test_df[lists.SET_A_FEATURES + lists.CONTROL_DUMMY_FEATURES]\n",
    "y_test = test_df[lists.DEPENDENT_VARIABLE]\n",
    "\n",
    "# Drop dummy variables that caused multicollinearity in OLS\n",
    "X_train = X_train.drop(columns=['ASC842_dummy', 'COVID_dummy'])\n",
    "X_test = X_test.drop(columns=['ASC842_dummy', 'COVID_dummy'])\n",
    "\n",
    "print(\"Features included in the model:\")\n",
    "for i, feature in enumerate(X_train.columns, 1):\n",
    "    print(f\"{i:2d}. {feature}\")\n",
    "\n",
    "print(f\"\\nDependent variable: {lists.DEPENDENT_VARIABLE}\")\n",
    "print(f\"Training observations: {len(X_train)}\")\n",
    "print(f\"Test observations: {len(X_test)}\")"
   ]
  },
  {
   "cell_type": "code",
   "execution_count": 6,
   "id": "f8b73830",
   "metadata": {},
   "outputs": [
    {
     "name": "stdout",
     "output_type": "stream",
     "text": [
      "Training Stacking Ensemble Model...\n",
      "Base models: 4\n",
      "Meta-learner: LinearRegression\n",
      "Cross-validation folds: 5\n",
      "\n",
      "Stacking model training completed in 94.11 seconds\n"
     ]
    }
   ],
   "source": [
    "# =============================================================================\n",
    "# STACKING ENSEMBLE MODEL\n",
    "# =============================================================================\n",
    "\n",
    "from sklearn.ensemble import StackingRegressor\n",
    "from sklearn.tree import DecisionTreeRegressor\n",
    "from sklearn.ensemble import RandomForestRegressor\n",
    "from sklearn.linear_model import LinearRegression\n",
    "import xgboost as xgb\n",
    "from sklearn.metrics import r2_score, mean_squared_error, mean_absolute_error\n",
    "import numpy as np\n",
    "import time\n",
    "\n",
    "# Define base models (estimators) for the stack\n",
    "base_models = [\n",
    "    ('decision_tree', DecisionTreeRegressor(max_depth=5, min_samples_split=20, min_samples_leaf=2, random_state=42)),\n",
    "    ('random_forest', RandomForestRegressor(n_estimators=100, max_depth=10, random_state=42)),\n",
    "    ('xgboost', xgb.XGBRegressor(max_depth=3, learning_rate=0.1, n_estimators=200, subsample=1.0, colsample_bytree=0.8, random_state=42)),\n",
    "    ('linear_reg', LinearRegression())\n",
    "]\n",
    "\n",
    "# Define meta-learner (final estimator)\n",
    "meta_learner = LinearRegression()\n",
    "\n",
    "# Create stacking regressor\n",
    "stacking_regressor = StackingRegressor(\n",
    "    estimators=base_models,\n",
    "    final_estimator=meta_learner,\n",
    "    cv=5,  # 5-fold cross-validation for generating meta-features\n",
    "    n_jobs=-1\n",
    ")\n",
    "\n",
    "print(\"Training Stacking Ensemble Model...\")\n",
    "print(f\"Base models: {len(base_models)}\")\n",
    "print(f\"Meta-learner: {type(meta_learner).__name__}\")\n",
    "print(f\"Cross-validation folds: 5\")\n",
    "\n",
    "start_time = time.time()\n",
    "\n",
    "# Fit the stacking model\n",
    "stacking_regressor.fit(X_train, y_train)\n",
    "\n",
    "elapsed_time = time.time() - start_time\n",
    "print(f\"\\nStacking model training completed in {elapsed_time:.2f} seconds\")"
   ]
  },
  {
   "cell_type": "code",
   "execution_count": 7,
   "id": "076e4b7a",
   "metadata": {},
   "outputs": [
    {
     "name": "stdout",
     "output_type": "stream",
     "text": [
      "STACKING ENSEMBLE PERFORMANCE:\n",
      "Stacking (Train): R²=0.8028 | RMSE=0.4706 | MAE=0.1609\n",
      "Stacking (Test): R²=0.6615 | RMSE=0.5674 | MAE=0.1921\n",
      "\n",
      "INDIVIDUAL BASE MODEL PERFORMANCE:\n",
      "Decision Tree (Test): R²=0.6246 | RMSE=0.5976 | MAE=0.2162\n",
      "Random Forest (Test): R²=0.6619 | RMSE=0.5671 | MAE=0.1925\n",
      "Xgboost (Test): R²=0.6473 | RMSE=0.5792 | MAE=0.1963\n",
      "Linear Reg (Test): R²=0.6072 | RMSE=0.6112 | MAE=0.2260\n"
     ]
    }
   ],
   "source": [
    "# =============================================================================\n",
    "# STACKING MODEL PERFORMANCE\n",
    "# =============================================================================\n",
    "\n",
    "# Predictions from stacking model\n",
    "y_train_pred_stack = stacking_regressor.predict(X_train)\n",
    "y_test_pred_stack = stacking_regressor.predict(X_test)\n",
    "\n",
    "# Simple metrics function for any model\n",
    "def print_model_performance(y_true, y_pred, model_name, dataset):\n",
    "    r2 = r2_score(y_true, y_pred)\n",
    "    rmse = np.sqrt(mean_squared_error(y_true, y_pred))\n",
    "    mae = mean_absolute_error(y_true, y_pred)\n",
    "    print(f\"{model_name} ({dataset}): R²={r2:.4f} | RMSE={rmse:.4f} | MAE={mae:.4f}\")\n",
    "\n",
    "# Print stacking results\n",
    "print(\"STACKING ENSEMBLE PERFORMANCE:\")\n",
    "print_model_performance(y_train, y_train_pred_stack, \"Stacking\", \"Train\")\n",
    "print_model_performance(y_test, y_test_pred_stack, \"Stacking\", \"Test\")\n",
    "\n",
    "# Compare with individual base models\n",
    "print(\"\\nINDIVIDUAL BASE MODEL PERFORMANCE:\")\n",
    "for name, model in base_models:\n",
    "    model.fit(X_train, y_train)\n",
    "    y_test_pred_individual = model.predict(X_test)\n",
    "    print_model_performance(y_test, y_test_pred_individual, name.replace('_', ' ').title(), \"Test\")"
   ]
  },
  {
   "cell_type": "code",
   "execution_count": 8,
   "id": "223c52f7",
   "metadata": {},
   "outputs": [
    {
     "name": "stdout",
     "output_type": "stream",
     "text": [
      "META-LEARNER ANALYSIS:\n",
      "==================================================\n",
      "Base Model Weights in Final Ensemble:\n",
      " 1. xgboost           0.4914\n",
      " 2. random_forest     0.4896\n",
      " 3. linear_reg        0.1025\n",
      " 4. decision_tree    -0.0769\n",
      "\n",
      "Meta-learner intercept: 0.0021\n",
      "\n",
      "MODEL INTERPRETATION:\n",
      "==================================================\n",
      "Positive weights: Model contributes positively to final prediction\n",
      "Negative weights: Model provides contrarian signal\n",
      "Larger absolute weights: Model has more influence on final prediction\n"
     ]
    }
   ],
   "source": [
    "# =============================================================================\n",
    "# STACKING MODEL ANALYSIS\n",
    "# =============================================================================\n",
    "\n",
    "import pandas as pd\n",
    "\n",
    "# Get base model predictions (meta-features)\n",
    "print(\"META-LEARNER ANALYSIS:\")\n",
    "print(\"=\"*50)\n",
    "\n",
    "# Get meta-learner coefficients (how much weight each base model gets)\n",
    "meta_coefficients = stacking_regressor.final_estimator_.coef_\n",
    "base_model_names = [name for name, _ in base_models]\n",
    "\n",
    "# Create DataFrame for meta-learner weights\n",
    "meta_weights = pd.DataFrame({\n",
    "    'base_model': base_model_names,\n",
    "    'weight': meta_coefficients\n",
    "}).sort_values('weight', ascending=False, key=abs)\n",
    "\n",
    "print(\"Base Model Weights in Final Ensemble:\")\n",
    "for i, (_, row) in enumerate(meta_weights.iterrows(), 1):\n",
    "    print(f\"{i:2d}. {row['base_model']:<15} {row['weight']:>8.4f}\")\n",
    "\n",
    "print(f\"\\nMeta-learner intercept: {stacking_regressor.final_estimator_.intercept_:.4f}\")\n",
    "\n",
    "# Model interpretation\n",
    "print(\"\\nMODEL INTERPRETATION:\")\n",
    "print(\"=\"*50)\n",
    "print(\"Positive weights: Model contributes positively to final prediction\")\n",
    "print(\"Negative weights: Model provides contrarian signal\")\n",
    "print(\"Larger absolute weights: Model has more influence on final prediction\")"
   ]
  }
 ],
 "metadata": {
  "kernelspec": {
   "display_name": ".venv (3.13.1)",
   "language": "python",
   "name": "python3"
  },
  "language_info": {
   "codemirror_mode": {
    "name": "ipython",
    "version": 3
   },
   "file_extension": ".py",
   "mimetype": "text/x-python",
   "name": "python",
   "nbconvert_exporter": "python",
   "pygments_lexer": "ipython3",
   "version": "3.13.1"
  }
 },
 "nbformat": 4,
 "nbformat_minor": 5
}
