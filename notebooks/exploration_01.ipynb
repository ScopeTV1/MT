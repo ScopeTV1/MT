{
 "cells": [
  {
   "cell_type": "code",
   "execution_count": 5,
   "id": "63b706d1",
   "metadata": {},
   "outputs": [],
   "source": [
    "# Enable auto-reloading of external modules - useful during development\n",
    "%load_ext autoreload\n",
    "%autoreload 2\n",
    "\n",
    "# Configure Python path to find our custom modules\n",
    "import sys\n",
    "from pathlib import Path\n",
    "\n",
    "# Add project root to the Python path for proper imports\n",
    "project_root = Path.cwd().parent\n",
    "if project_root not in sys.path:\n",
    "    sys.path.insert(0, str(project_root))"
   ]
  },
  {
   "cell_type": "code",
   "execution_count": 6,
   "id": "236b777c",
   "metadata": {},
   "outputs": [],
   "source": [
    "# Import necessary libraries\n",
    "import src.processing as processing\n",
    "import src.lists as lists"
   ]
  },
  {
   "cell_type": "code",
   "execution_count": 7,
   "id": "1992ac23",
   "metadata": {},
   "outputs": [
    {
     "name": "stderr",
     "output_type": "stream",
     "text": [
      "/Users/luis.m/Library/Mobile Documents/com~apple~CloudDocs/Documents ☁️/VSC Projects/Master_Thesis/src/processing.py:16: DtypeWarning: Columns (10,11,12,16,17,22,26,30,33,34,35,945,946,948,949,950,955,969,970,975,980) have mixed types. Specify dtype option on import or set low_memory=False.\n",
      "  data = pd.read_csv(file_path)\n"
     ]
    },
    {
     "name": "stdout",
     "output_type": "stream",
     "text": [
      "Data loaded successfully from /Users/luis.m/Library/Mobile Documents/com~apple~CloudDocs/Documents ☁️/VSC Projects/Master_Thesis/data/raw/nvzfxcoxdvh1at7i.csv\n"
     ]
    }
   ],
   "source": [
    "df = processing.load_data(\"/Users/luis.m/Library/Mobile Documents/com~apple~CloudDocs/Documents ☁️/VSC Projects/Master_Thesis/data/raw/nvzfxcoxdvh1at7i.csv\")\n"
   ]
  },
  {
   "cell_type": "code",
   "execution_count": 8,
   "id": "045c0e34",
   "metadata": {},
   "outputs": [
    {
     "name": "stdout",
     "output_type": "stream",
     "text": [
      "The DataFrame has 317304 observations (rows) and 981 columns.\n"
     ]
    }
   ],
   "source": [
    "processing.df_shape(df)"
   ]
  },
  {
   "cell_type": "code",
   "execution_count": 9,
   "id": "402a3f39",
   "metadata": {},
   "outputs": [
    {
     "name": "stdout",
     "output_type": "stream",
     "text": [
      "Original number of observations: 317304\n",
      "Number of columns after selection: 30\n",
      "Observations after year filter (2000-2023): 302751\n",
      "Observations after excluding financial and utility firms: 170598\n"
     ]
    }
   ],
   "source": [
    "df = processing.prepare_data(df)"
   ]
  },
  {
   "cell_type": "code",
   "execution_count": 10,
   "id": "2b39dae7",
   "metadata": {},
   "outputs": [
    {
     "name": "stdout",
     "output_type": "stream",
     "text": [
      "The DataFrame has 170598 observations (rows) and 30 columns.\n"
     ]
    }
   ],
   "source": [
    "processing.df_shape(df)"
   ]
  },
  {
   "cell_type": "code",
   "execution_count": 11,
   "id": "9c32bed8",
   "metadata": {},
   "outputs": [
    {
     "name": "stdout",
     "output_type": "stream",
     "text": [
      "The DataFrame has 159864 observations (rows) and 30 columns.\n"
     ]
    },
    {
     "data": {
      "application/vnd.microsoft.datawrangler.viewer.v0+json": {
       "columns": [
        {
         "name": "index",
         "rawType": "object",
         "type": "string"
        },
        {
         "name": "0",
         "rawType": "int64",
         "type": "integer"
        }
       ],
       "ref": "dac10e5b-39b0-419f-8b6a-72d16254b385",
       "rows": [
        [
         "gvkey",
         "0"
        ],
        [
         "datadate",
         "0"
        ],
        [
         "fyear",
         "0"
        ],
        [
         "conm",
         "0"
        ],
        [
         "tic",
         "10"
        ],
        [
         "cusip",
         "0"
        ],
        [
         "cik",
         "16515"
        ],
        [
         "sic",
         "0"
        ],
        [
         "curncd",
         "0"
        ],
        [
         "pddur",
         "0"
        ],
        [
         "oancf",
         "0"
        ],
        [
         "at",
         "0"
        ],
        [
         "ni",
         "0"
        ],
        [
         "rect",
         "0"
        ],
        [
         "invt",
         "0"
        ],
        [
         "ap",
         "0"
        ],
        [
         "dp",
         "0"
        ],
        [
         "xsga",
         "15713"
        ],
        [
         "xrd",
         "70948"
        ],
        [
         "capx",
         "456"
        ],
        [
         "act",
         "2219"
        ],
        [
         "lct",
         "2191"
        ],
        [
         "lt",
         "298"
        ],
        [
         "sale",
         "0"
        ],
        [
         "gp",
         "0"
        ],
        [
         "cogs",
         "0"
        ],
        [
         "ppent",
         "87"
        ],
        [
         "mkvalt",
         "26294"
        ],
        [
         "ceq",
         "262"
        ],
        [
         "ipodate",
         "80012"
        ]
       ],
       "shape": {
        "columns": 1,
        "rows": 30
       }
      },
      "text/plain": [
       "gvkey           0\n",
       "datadate        0\n",
       "fyear           0\n",
       "conm            0\n",
       "tic            10\n",
       "cusip           0\n",
       "cik         16515\n",
       "sic             0\n",
       "curncd          0\n",
       "pddur           0\n",
       "oancf           0\n",
       "at              0\n",
       "ni              0\n",
       "rect            0\n",
       "invt            0\n",
       "ap              0\n",
       "dp              0\n",
       "xsga        15713\n",
       "xrd         70948\n",
       "capx          456\n",
       "act          2219\n",
       "lct          2191\n",
       "lt            298\n",
       "sale            0\n",
       "gp              0\n",
       "cogs            0\n",
       "ppent          87\n",
       "mkvalt      26294\n",
       "ceq           262\n",
       "ipodate     80012\n",
       "dtype: int64"
      ]
     },
     "execution_count": 11,
     "metadata": {},
     "output_type": "execute_result"
    }
   ],
   "source": [
    "df = df.dropna(subset=lists.raw_items_for_set_A_predictors_components)\n",
    "processing.df_shape(df)\n",
    "df.isnull().sum()\n"
   ]
  },
  {
   "cell_type": "code",
   "execution_count": 12,
   "id": "e58c033a",
   "metadata": {},
   "outputs": [
    {
     "name": "stdout",
     "output_type": "stream",
     "text": [
      "The DataFrame has 159864 observations (rows) and 30 columns.\n"
     ]
    },
    {
     "data": {
      "application/vnd.microsoft.datawrangler.viewer.v0+json": {
       "columns": [
        {
         "name": "index",
         "rawType": "object",
         "type": "string"
        },
        {
         "name": "0",
         "rawType": "int64",
         "type": "integer"
        }
       ],
       "ref": "04091206-e4da-4170-82cf-c3c088ad64c0",
       "rows": [
        [
         "gvkey",
         "0"
        ],
        [
         "datadate",
         "0"
        ],
        [
         "fyear",
         "0"
        ],
        [
         "conm",
         "0"
        ],
        [
         "tic",
         "5"
        ],
        [
         "cusip",
         "0"
        ],
        [
         "cik",
         "3823"
        ],
        [
         "sic",
         "0"
        ],
        [
         "curncd",
         "0"
        ],
        [
         "pddur",
         "0"
        ],
        [
         "oancf",
         "0"
        ],
        [
         "at",
         "0"
        ],
        [
         "ni",
         "0"
        ],
        [
         "rect",
         "0"
        ],
        [
         "invt",
         "0"
        ],
        [
         "ap",
         "0"
        ],
        [
         "dp",
         "0"
        ],
        [
         "xsga",
         "0"
        ],
        [
         "xrd",
         "0"
        ],
        [
         "capx",
         "0"
        ],
        [
         "act",
         "0"
        ],
        [
         "lct",
         "0"
        ],
        [
         "lt",
         "0"
        ],
        [
         "sale",
         "0"
        ],
        [
         "gp",
         "0"
        ],
        [
         "cogs",
         "0"
        ],
        [
         "ppent",
         "0"
        ],
        [
         "mkvalt",
         "0"
        ],
        [
         "ceq",
         "0"
        ],
        [
         "ipodate",
         "28724"
        ]
       ],
       "shape": {
        "columns": 1,
        "rows": 30
       }
      },
      "text/plain": [
       "gvkey           0\n",
       "datadate        0\n",
       "fyear           0\n",
       "conm            0\n",
       "tic             5\n",
       "cusip           0\n",
       "cik          3823\n",
       "sic             0\n",
       "curncd          0\n",
       "pddur           0\n",
       "oancf           0\n",
       "at              0\n",
       "ni              0\n",
       "rect            0\n",
       "invt            0\n",
       "ap              0\n",
       "dp              0\n",
       "xsga            0\n",
       "xrd             0\n",
       "capx            0\n",
       "act             0\n",
       "lct             0\n",
       "lt              0\n",
       "sale            0\n",
       "gp              0\n",
       "cogs            0\n",
       "ppent           0\n",
       "mkvalt          0\n",
       "ceq             0\n",
       "ipodate     28724\n",
       "dtype: int64"
      ]
     },
     "execution_count": 12,
     "metadata": {},
     "output_type": "execute_result"
    }
   ],
   "source": [
    "df_B_dopped = df.dropna(subset=lists.raw_items_for_set_B_truly_additional_components)\n",
    "processing.df_shape(df)\n",
    "df_B_dopped.isnull().sum()"
   ]
  },
  {
   "cell_type": "code",
   "execution_count": 17,
   "id": "dea7e844",
   "metadata": {},
   "outputs": [
    {
     "name": "stdout",
     "output_type": "stream",
     "text": [
      "Starting feature construction. Initial df shape: (159864, 30)\n",
      "  Creating lags for: ['at', 'ni', 'rect', 'invt', 'ap', 'sale']\n",
      "\n",
      "Performing pre-calculation validity checks & preparations...\n",
      "  Missing 'xrd' values filled with 0.\n",
      "  'ipo_year' created from 'ipodate'.\n",
      "\n",
      "Constructing dependent variable...\n",
      "  OCF_Scaled_t_plus_1 created.\n",
      "\n",
      "Constructing Set A (OLS) predictors...\n",
      "  Set A predictors constructed.\n",
      "\n",
      "Constructing control dummy variables...\n",
      "  Dummy variables constructed.\n",
      "\n",
      "Constructing Set B (additional ML) predictors...\n",
      "  Set B predictors constructed.\n",
      "\n",
      "Selecting final model variables and dropping intermediate columns...\n",
      "  Shape of DataFrame after final column selection: (159864, 30)\n",
      "  Final columns kept: ['gvkey', 'fyear', 'datadate', 'OCF_Scaled_t_plus_1', 'OCF_Scaled_Lag_t', 'NI_Scaled_t', 'Accruals_Scaled_t', 'Delta_Rec_Scaled_t', 'Delta_Inv_Scaled_t', 'Delta_AP_Scaled_t', 'DP_Scaled_t', 'ln_at_t', 'ASC606_dummy', 'ASC842_dummy', 'TCJA_dummy', 'COVID_dummy', 'XSGA_Scaled_t', 'XRD_Scaled_t', 'CAPX_Scaled_t', 'CurrentRatio_t', 'DebtToAssets_t', 'OCFtoSales_t', 'InvTurnover_t', 'RecTurnover_t', 'GPM_t', 'Delta_Sales_Scaled_t', 'NI_Scaled_Lag_t', 'CapitalIntensity_t', 'MkBk_t', 'FirmAge_t']\n",
      "\n",
      "Feature construction complete. Final DataFrame shape: (159864, 30)\n"
     ]
    }
   ],
   "source": [
    "df_final = processing.create_all_model_features_orchestrated(df)"
   ]
  }
 ],
 "metadata": {
  "kernelspec": {
   "display_name": ".venv (3.13.1)",
   "language": "python",
   "name": "python3"
  },
  "language_info": {
   "codemirror_mode": {
    "name": "ipython",
    "version": 3
   },
   "file_extension": ".py",
   "mimetype": "text/x-python",
   "name": "python",
   "nbconvert_exporter": "python",
   "pygments_lexer": "ipython3",
   "version": "3.13.1"
  }
 },
 "nbformat": 4,
 "nbformat_minor": 5
}
