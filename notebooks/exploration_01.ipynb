{
 "cells": [
  {
   "cell_type": "code",
   "execution_count": 34,
   "id": "63b706d1",
   "metadata": {},
   "outputs": [
    {
     "name": "stdout",
     "output_type": "stream",
     "text": [
      "The autoreload extension is already loaded. To reload it, use:\n",
      "  %reload_ext autoreload\n"
     ]
    }
   ],
   "source": [
    "# Enable auto-reloading of external modules - useful during development\n",
    "%load_ext autoreload\n",
    "%autoreload 2\n",
    "\n",
    "# Configure Python path to find our custom modules\n",
    "import sys\n",
    "from pathlib import Path\n",
    "\n",
    "# Add project root to the Python path for proper imports\n",
    "project_root = Path.cwd().parent\n",
    "if project_root not in sys.path:\n",
    "    sys.path.insert(0, str(project_root))"
   ]
  },
  {
   "cell_type": "code",
   "execution_count": 35,
   "id": "236b777c",
   "metadata": {},
   "outputs": [],
   "source": [
    "# Import necessary libraries\n",
    "import src.processing as processing\n"
   ]
  },
  {
   "cell_type": "code",
   "execution_count": 36,
   "id": "1992ac23",
   "metadata": {},
   "outputs": [
    {
     "name": "stderr",
     "output_type": "stream",
     "text": [
      "/Users/luis.m/Library/Mobile Documents/com~apple~CloudDocs/Documents ☁️/VSC Projects/Master_Thesis/src/processing.py:10: DtypeWarning: Columns (10,11,12,16,17,22,26,30,33,34,35,945,946,948,949,950,955,969,970,975,980) have mixed types. Specify dtype option on import or set low_memory=False.\n",
      "  data = pd.read_csv(file_path)\n"
     ]
    },
    {
     "name": "stdout",
     "output_type": "stream",
     "text": [
      "Data loaded successfully from /Users/luis.m/Library/Mobile Documents/com~apple~CloudDocs/Documents ☁️/VSC Projects/Master_Thesis/data/raw/nvzfxcoxdvh1at7i.csv\n"
     ]
    }
   ],
   "source": [
    "df = processing.load_data(\"/Users/luis.m/Library/Mobile Documents/com~apple~CloudDocs/Documents ☁️/VSC Projects/Master_Thesis/data/raw/nvzfxcoxdvh1at7i.csv\")\n"
   ]
  },
  {
   "cell_type": "code",
   "execution_count": 37,
   "id": "045c0e34",
   "metadata": {},
   "outputs": [
    {
     "name": "stdout",
     "output_type": "stream",
     "text": [
      "The DataFrame has 317304 observations (rows) and 981 columns.\n"
     ]
    }
   ],
   "source": [
    "processing.df_shape(df)"
   ]
  },
  {
   "cell_type": "code",
   "execution_count": 38,
   "id": "402a3f39",
   "metadata": {},
   "outputs": [
    {
     "name": "stdout",
     "output_type": "stream",
     "text": [
      "Original number of observations: 317304\n",
      "Number of columns after selection: 30\n",
      "Observations after year filter (2000-2023): 302751\n",
      "Observations after excluding financial and utility firms: 170598\n"
     ]
    }
   ],
   "source": [
    "df = processing.prepare_data(df)"
   ]
  },
  {
   "cell_type": "code",
   "execution_count": 39,
   "id": "2b39dae7",
   "metadata": {},
   "outputs": [
    {
     "name": "stdout",
     "output_type": "stream",
     "text": [
      "The DataFrame has 170598 observations (rows) and 30 columns.\n"
     ]
    }
   ],
   "source": [
    "processing.df_shape(df)"
   ]
  },
  {
   "cell_type": "code",
   "execution_count": null,
   "id": "2578aaa5",
   "metadata": {},
   "outputs": [
    {
     "name": "stdout",
     "output_type": "stream",
     "text": [
      "The DataFrame has 34665 observations (rows) and 30 columns.\n"
     ]
    },
    {
     "data": {
      "application/vnd.microsoft.datawrangler.viewer.v0+json": {
       "columns": [
        {
         "name": "index",
         "rawType": "object",
         "type": "string"
        },
        {
         "name": "0",
         "rawType": "int64",
         "type": "integer"
        }
       ],
       "ref": "3dd0bcd8-0cf0-4d5d-83c9-6dec85f27ce6",
       "rows": [
        [
         "gvkey",
         "0"
        ],
        [
         "datadate",
         "0"
        ],
        [
         "fyear",
         "0"
        ],
        [
         "conm",
         "0"
        ],
        [
         "tic",
         "0"
        ],
        [
         "cusip",
         "0"
        ],
        [
         "cik",
         "0"
        ],
        [
         "sic",
         "0"
        ],
        [
         "curncd",
         "0"
        ],
        [
         "pddur",
         "0"
        ],
        [
         "oancf",
         "0"
        ],
        [
         "at",
         "0"
        ],
        [
         "ni",
         "0"
        ],
        [
         "rect",
         "0"
        ],
        [
         "invt",
         "0"
        ],
        [
         "ap",
         "0"
        ],
        [
         "dp",
         "0"
        ],
        [
         "xsga",
         "0"
        ],
        [
         "xrd",
         "0"
        ],
        [
         "capx",
         "0"
        ],
        [
         "act",
         "0"
        ],
        [
         "lct",
         "0"
        ],
        [
         "lt",
         "0"
        ],
        [
         "sale",
         "0"
        ],
        [
         "gp",
         "0"
        ],
        [
         "cogs",
         "0"
        ],
        [
         "ppent",
         "0"
        ],
        [
         "mkvalt",
         "0"
        ],
        [
         "ceq",
         "0"
        ],
        [
         "ipodate",
         "0"
        ]
       ],
       "shape": {
        "columns": 1,
        "rows": 30
       }
      },
      "text/plain": [
       "gvkey       0\n",
       "datadate    0\n",
       "fyear       0\n",
       "conm        0\n",
       "tic         0\n",
       "cusip       0\n",
       "cik         0\n",
       "sic         0\n",
       "curncd      0\n",
       "pddur       0\n",
       "oancf       0\n",
       "at          0\n",
       "ni          0\n",
       "rect        0\n",
       "invt        0\n",
       "ap          0\n",
       "dp          0\n",
       "xsga        0\n",
       "xrd         0\n",
       "capx        0\n",
       "act         0\n",
       "lct         0\n",
       "lt          0\n",
       "sale        0\n",
       "gp          0\n",
       "cogs        0\n",
       "ppent       0\n",
       "mkvalt      0\n",
       "ceq         0\n",
       "ipodate     0\n",
       "dtype: int64"
      ]
     },
     "execution_count": 43,
     "metadata": {},
     "output_type": "execute_result"
    }
   ],
   "source": [
    "\n",
    "df= df.dropna()\n",
    "processing.df_shape(df)\n",
    "df.isnull().sum()"
   ]
  }
 ],
 "metadata": {
  "kernelspec": {
   "display_name": ".venv (3.13.1)",
   "language": "python",
   "name": "python3"
  },
  "language_info": {
   "codemirror_mode": {
    "name": "ipython",
    "version": 3
   },
   "file_extension": ".py",
   "mimetype": "text/x-python",
   "name": "python",
   "nbconvert_exporter": "python",
   "pygments_lexer": "ipython3",
   "version": "3.13.1"
  }
 },
 "nbformat": 4,
 "nbformat_minor": 5
}
